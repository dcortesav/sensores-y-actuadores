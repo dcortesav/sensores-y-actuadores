{
 "cells": [
  {
   "cell_type": "markdown",
   "id": "ac8fb541",
   "metadata": {},
   "source": [
    "# Data Conversion"
   ]
  },
  {
   "cell_type": "code",
   "execution_count": 4,
   "id": "47d973cd",
   "metadata": {},
   "outputs": [
    {
     "name": "stdout",
     "output_type": "stream",
     "text": [
      "Wrote 510 rows across 17 stages to c:\\sensores-y-actuadores\\lab_1\\datos.csv\n"
     ]
    }
   ],
   "source": [
    "from pathlib import Path\n",
    "import re\n",
    "import pandas as pd\n",
    "\n",
    "in_path = Path(r\"c:\\sensores-y-actuadores\\lab_1\\datos.txt\")\n",
    "out_path = Path(r\"c:\\sensores-y-actuadores\\lab_1\\datos.csv\")\n",
    "\n",
    "# Robust pattern: tolerate typos (e.g., \"stra 28/30\") and varying whitespace\n",
    "pattern = re.compile(\n",
    "    r'(?<!\\d)(\\d+)\\s*/\\s*(\\d+).*?Valor\\s*ADC:\\s*(\\d+)\\s*\\|\\s*Voltaje:\\s*([0-9]+(?:[.,][0-9]+)?)\\s*V',\n",
    "    re.IGNORECASE\n",
    ")\n",
    "\n",
    "rows = []\n",
    "stage_id = -1  # will become 0 on first \"sample 1/..\"\n",
    "\n",
    "for line in in_path.read_text(encoding=\"utf-8\", errors=\"ignore\").splitlines():\n",
    "    m = pattern.search(line)\n",
    "    if not m:\n",
    "        continue\n",
    "    sample_no, total_in_stage, adc, volt_str = m.groups()\n",
    "    sample_no = int(sample_no)\n",
    "    total_in_stage = int(total_in_stage)\n",
    "    adc = int(adc)\n",
    "    volt = float(volt_str.replace(\",\", \".\"))\n",
    "\n",
    "    # Start new stage when sample counter resets to 1\n",
    "    if sample_no == 1:\n",
    "        stage_id += 1\n",
    "\n",
    "    rows.append(\n",
    "        {\n",
    "            \"stage_id\": stage_id,\n",
    "            \"sample_no\": sample_no,\n",
    "            \"adc\": adc,\n",
    "            \"voltaje_v\": volt,\n",
    "        }\n",
    "    )\n",
    "\n",
    "df = pd.DataFrame(rows)\n",
    "\n",
    "# Assign level per stage: 0..8 ascending, then 7..0 descending (no repeated 8)\n",
    "expected_levels = list(range(0, 9)) + list(range(7, -1, -1))  # length 17\n",
    "num_stages = df[\"stage_id\"].max() + 1 if not df.empty else 0\n",
    "\n",
    "if num_stages == 0:\n",
    "    raise SystemExit(\"No samples found. Check the input file format and path.\")\n",
    "\n",
    "if num_stages != len(expected_levels):\n",
    "    print(f\"Warning: detected {num_stages} stages, expected {len(expected_levels)} (0..8..0).\")\n",
    "    # Map as far as possible\n",
    "    levels = expected_levels[:num_stages]\n",
    "else:\n",
    "    levels = expected_levels\n",
    "\n",
    "level_map = {sid: levels[sid] for sid in range(num_stages)}\n",
    "df[\"level_cm\"] = df[\"stage_id\"].map(level_map)\n",
    "\n",
    "# Optional sanity check: each stage should have 30 samples\n",
    "counts = df.groupby(\"stage_id\")[\"sample_no\"].nunique()\n",
    "bad = counts[counts != 30]\n",
    "if not bad.empty:\n",
    "    print(\"Warning: some stages do not have 30 unique samples:\")\n",
    "    print(bad.to_string())\n",
    "\n",
    "# Order and write\n",
    "df = df.sort_values([\"stage_id\", \"sample_no\"])[\n",
    "    [\"stage_id\", \"level_cm\", \"sample_no\", \"adc\", \"voltaje_v\"]\n",
    "]\n",
    "df.to_csv(out_path, index=False)\n",
    "print(f\"Wrote {len(df)} rows across {num_stages} stages to {out_path}\")"
   ]
  }
 ],
 "metadata": {
  "kernelspec": {
   "display_name": "learn_data_science",
   "language": "python",
   "name": "python3"
  },
  "language_info": {
   "codemirror_mode": {
    "name": "ipython",
    "version": 3
   },
   "file_extension": ".py",
   "mimetype": "text/x-python",
   "name": "python",
   "nbconvert_exporter": "python",
   "pygments_lexer": "ipython3",
   "version": "3.10.18"
  }
 },
 "nbformat": 4,
 "nbformat_minor": 5
}
